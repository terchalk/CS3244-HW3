{
 "cells": [
  {
   "cell_type": "markdown",
   "metadata": {
    "collapsed": true
   },
   "source": [
    "# Homework #3"
   ]
  },
  {
   "cell_type": "markdown",
   "metadata": {},
   "source": [
    "## Support Vector Machine Implementation for HOMEWORK 3"
   ]
  },
  {
   "cell_type": "code",
   "execution_count": 7,
   "metadata": {
    "collapsed": false
   },
   "outputs": [
    {
     "ename": "ImportError",
     "evalue": "No module named 'sklearn.model_selection'",
     "output_type": "error",
     "traceback": [
      "\u001b[1;31m---------------------------------------------------------------------------\u001b[0m",
      "\u001b[1;31mImportError\u001b[0m                               Traceback (most recent call last)",
      "\u001b[1;32m<ipython-input-7-9a49d1060554>\u001b[0m in \u001b[0;36m<module>\u001b[1;34m()\u001b[0m\n\u001b[0;32m      2\u001b[0m \u001b[1;32mimport\u001b[0m \u001b[0mmath\u001b[0m\u001b[1;33m\u001b[0m\u001b[0m\n\u001b[0;32m      3\u001b[0m \u001b[1;33m\u001b[0m\u001b[0m\n\u001b[1;32m----> 4\u001b[1;33m \u001b[1;32mfrom\u001b[0m \u001b[0msklearn\u001b[0m\u001b[1;33m.\u001b[0m\u001b[0mmodel_selection\u001b[0m \u001b[1;32mimport\u001b[0m \u001b[0mtrain_test_split\u001b[0m\u001b[1;33m\u001b[0m\u001b[0m\n\u001b[0m\u001b[0;32m      5\u001b[0m \u001b[1;32mfrom\u001b[0m \u001b[0msklearn\u001b[0m\u001b[1;33m.\u001b[0m\u001b[0mdecomposition\u001b[0m \u001b[1;32mimport\u001b[0m \u001b[0mPCA\u001b[0m\u001b[1;33m\u001b[0m\u001b[0m\n\u001b[0;32m      6\u001b[0m \u001b[1;32mfrom\u001b[0m \u001b[0msklearn\u001b[0m \u001b[1;32mimport\u001b[0m \u001b[0msvm\u001b[0m\u001b[1;33m\u001b[0m\u001b[0m\n",
      "\u001b[1;31mImportError\u001b[0m: No module named 'sklearn.model_selection'"
     ]
    }
   ],
   "source": [
    "import numpy as np\n",
    "import math\n",
    "\n",
    "from sklearn.model_selection import train_test_split\n",
    "from sklearn.decomposition import PCA\n",
    "from sklearn import svm\n",
    "\n",
    "def svmPredict(data, label, svmModel):\n",
    "    \n",
    "    predictedLabel = svmModel.predict(data)\n",
    "    error = 0.0\n",
    "    \n",
    "    for i in range(len(label)):\n",
    "        if predictedLabel[i] < label[i] or predictedLabel[i] > label[i]:\n",
    "            error += 1.0\n",
    "    \n",
    "    error /= float(len(label))\n",
    "    \n",
    "    return error\n",
    "\n",
    "#Load in data\n",
    "given_trainX = np.load(\"X_train.npy\")\n",
    "given_trainY = np.load(\"y_train.npy\")\n",
    "given_testX = np.load(\"X_test.npy\")\n",
    "\n",
    "#to get row and column\n",
    "height, width = given_trainX.shape\n",
    "\n",
    "#TODO: test the test_size as well, test_size=0.25 is the given one\n",
    "trainX, testX, trainY, testY = train_test_split(given_trainX, given_trainY, test_size=0.25, random_state=42)\n",
    "\n",
    "#PCA Algorithm\n",
    "#TODO: test components also, components=150 is a given\n",
    "components = 150\n",
    "\n",
    "pca = PCA(n_components = components, svd_solver='randomized', whiten=True).fix(trainX)\n",
    "eigenfaces = pca.components_.reshape((components, height, width))\n",
    "\n",
    "trainXPCA = pca.transform(trainX)\n",
    "testXPCA = pca.transform(testX)\n",
    "\n",
    "#Fitting the classifier to the training set\n",
    "param_grid = {'C': [1e3, 5e3, 1e4, 5e4, 1e5],\n",
    "              'gamma': [0.0001, 0.0005, 0.001, 0.005, 0.01, 0.1], }\n",
    "\n",
    "classifier = GridSearchCV(SVC(kernel='rbf', class_weight='balanced'), param_grid)\n",
    "classifier = classifier.fit(trainXPCA, trainY)\n",
    "\n",
    "error = svmPredict(testXPCA, testY, classifier)\n",
    "\n",
    "#the lower the error, the better\n",
    "print (error)\n"
   ]
  },
  {
   "cell_type": "code",
   "execution_count": null,
   "metadata": {
    "collapsed": true
   },
   "outputs": [],
   "source": []
  },
  {
   "cell_type": "code",
   "execution_count": null,
   "metadata": {
    "collapsed": true
   },
   "outputs": [],
   "source": []
  }
 ],
 "metadata": {
  "anaconda-cloud": {},
  "kernelspec": {
   "display_name": "Python [Root]",
   "language": "python",
   "name": "Python [Root]"
  },
  "language_info": {
   "codemirror_mode": {
    "name": "ipython",
    "version": 3
   },
   "file_extension": ".py",
   "mimetype": "text/x-python",
   "name": "python",
   "nbconvert_exporter": "python",
   "pygments_lexer": "ipython3",
   "version": "3.5.2"
  }
 },
 "nbformat": 4,
 "nbformat_minor": 0
}
