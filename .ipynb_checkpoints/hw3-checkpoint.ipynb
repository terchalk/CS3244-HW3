{
 "cells": [
  {
   "cell_type": "markdown",
   "metadata": {
    "collapsed": true
   },
   "source": [
    "# Homework #3"
   ]
  },
  {
   "cell_type": "markdown",
   "metadata": {},
   "source": [
    "## Support Vector Machine Implementation for HOMEWORK 3"
   ]
  },
  {
   "cell_type": "code",
   "execution_count": 1,
   "metadata": {
    "collapsed": false
   },
   "outputs": [
    {
     "ename": "NameError",
     "evalue": "name 'trainX' is not defined",
     "output_type": "error",
     "traceback": [
      "\u001b[0;31m---------------------------------------------------------------------------\u001b[0m",
      "\u001b[0;31mNameError\u001b[0m                                 Traceback (most recent call last)",
      "\u001b[0;32m<ipython-input-1-f9c416f25656>\u001b[0m in \u001b[0;36m<module>\u001b[0;34m()\u001b[0m\n\u001b[1;32m     40\u001b[0m \u001b[0mn_components\u001b[0m \u001b[1;33m=\u001b[0m \u001b[1;36m150\u001b[0m\u001b[1;33m\u001b[0m\u001b[0m\n\u001b[1;32m     41\u001b[0m \u001b[1;33m\u001b[0m\u001b[0m\n\u001b[0;32m---> 42\u001b[0;31m \u001b[0mpca\u001b[0m \u001b[1;33m=\u001b[0m \u001b[0mPCA\u001b[0m\u001b[1;33m(\u001b[0m\u001b[0mn_components\u001b[0m \u001b[1;33m=\u001b[0m \u001b[0mn_components\u001b[0m\u001b[1;33m,\u001b[0m \u001b[0msvd_solver\u001b[0m\u001b[1;33m=\u001b[0m\u001b[1;34m'randomized'\u001b[0m\u001b[1;33m,\u001b[0m \u001b[0mwhiten\u001b[0m\u001b[1;33m=\u001b[0m\u001b[1;32mTrue\u001b[0m\u001b[1;33m)\u001b[0m\u001b[1;33m.\u001b[0m\u001b[0mfit\u001b[0m\u001b[1;33m(\u001b[0m\u001b[0mtrainX\u001b[0m\u001b[1;33m)\u001b[0m\u001b[1;33m\u001b[0m\u001b[0m\n\u001b[0m\u001b[1;32m     43\u001b[0m \u001b[1;33m\u001b[0m\u001b[0m\n\u001b[1;32m     44\u001b[0m \u001b[0mtrainXPCA\u001b[0m \u001b[1;33m=\u001b[0m \u001b[0mpca\u001b[0m\u001b[1;33m.\u001b[0m\u001b[0mtransform\u001b[0m\u001b[1;33m(\u001b[0m\u001b[0mgiven_trainX\u001b[0m\u001b[1;33m)\u001b[0m\u001b[1;33m\u001b[0m\u001b[0m\n",
      "\u001b[0;31mNameError\u001b[0m: name 'trainX' is not defined"
     ]
    }
   ],
   "source": [
    "import numpy as np\n",
    "import math\n",
    "\n",
    "from sklearn.model_selection import train_test_split\n",
    "from sklearn.model_selection import GridSearchCV\n",
    "from sklearn.decomposition import PCA\n",
    "from sklearn.svm import SVC\n",
    "\n",
    "def svmPredict(data, label, svmModel):\n",
    "    \n",
    "    predictedLabel = svmModel.predict(data)\n",
    "    error = 0.0\n",
    "    \n",
    "    for i in range(len(label)):\n",
    "        if predictedLabel[i] < label[i] or predictedLabel[i] > label[i]:\n",
    "            error += 1.0\n",
    "    \n",
    "    error /= float(len(label))\n",
    "    \n",
    "    return error\n",
    "\n",
    "def generateYTest(data, svmModel):\n",
    "    \n",
    "    predictedLabel = svmModel.predict(data)\n",
    "    \n",
    "    return predictedLabel\n",
    "\n",
    "\n",
    "#Load in data\n",
    "given_trainX = np.load(\"X_train.npy\")\n",
    "given_trainY = np.load(\"y_train.npy\")\n",
    "given_testX = np.load(\"X_test.npy\")\n",
    "\n",
    "#to get row and column\n",
    "height, width = given_trainX.shape\n",
    "\n",
    "#trainX, testX, trainY, testY = train_test_split(given_trainX, given_trainY, test_size=0.25, random_state=42)\n",
    "\n",
    "#PCA Algorithm\n",
    "n_components = 150\n",
    "\n",
    "pca = PCA(n_components = n_components, svd_solver='randomized', whiten=True).fit(given_trainX)\n",
    "\n",
    "trainXPCA = pca.transform(given_trainX)\n",
    "testXPCA = pca.transform(given_testX)\n",
    "\n",
    "cList = []\n",
    "gammaList = []\n",
    "\n",
    "    \n",
    "#Fitting the classifier to the training set\n",
    "param_grid = {'C': [2e-9, 2e-7, 2e-5, 2e-3, 2e-1, 2e1, 2e3, 2e5, 2e7],\n",
    "              'gamma': [2e-9, 2e-7, 2e-5, 2e-3, 2e-1, 2e1, 2e3, 2e5, 2e7],}\n",
    "\n",
    "classifier = GridSearchCV(SVC(kernel='rbf', class_weight='balanced'), param_grid)\n",
    "classifier = classifier.fit(trainXPCA, given_trainY)\n",
    "\n",
    "predictedTestY = generateYTest(testXPCA, classifier)\n",
    "\n",
    "data = np.empty((len(predictedTestY), 2), dtype='int')\n",
    "for i in range (len(predictedTestY)):\n",
    "        data[i][0] = i\n",
    "        data[i][1] = predictedTestY[i]\n",
    "\n",
    "np.savetxt('output.txt', data, delimiter=',', fmt='%d', header=\"ImageId,PredictedClass\")"
   ]
  },
  {
   "cell_type": "raw",
   "metadata": {
    "collapsed": true
   },
   "source": []
  },
  {
   "cell_type": "code",
   "execution_count": null,
   "metadata": {
    "collapsed": true
   },
   "outputs": [],
   "source": []
  }
 ],
 "metadata": {
  "anaconda-cloud": {},
  "kernelspec": {
   "display_name": "Python [conda root]",
   "language": "python",
   "name": "conda-root-py"
  },
  "language_info": {
   "codemirror_mode": {
    "name": "ipython",
    "version": 3
   },
   "file_extension": ".py",
   "mimetype": "text/x-python",
   "name": "python",
   "nbconvert_exporter": "python",
   "pygments_lexer": "ipython3",
   "version": "3.5.2"
  }
 },
 "nbformat": 4,
 "nbformat_minor": 0
}
