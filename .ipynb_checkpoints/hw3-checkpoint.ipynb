{
 "cells": [
  {
   "cell_type": "markdown",
   "metadata": {
    "collapsed": true
   },
   "source": [
    "# Homework #3"
   ]
  },
  {
   "cell_type": "markdown",
   "metadata": {},
   "source": [
    "## Support Vector Machine Implementation for HOMEWORK 3"
   ]
  },
  {
   "cell_type": "code",
   "execution_count": 17,
   "metadata": {
    "collapsed": false
   },
   "outputs": [
    {
     "name": "stdout",
     "output_type": "stream",
     "text": [
      "0.2066115702479339\n"
     ]
    }
   ],
   "source": [
    "import numpy as np\n",
    "import math\n",
    "\n",
    "from sklearn.model_selection import train_test_split\n",
    "from sklearn.model_selection import GridSearchCV\n",
    "from sklearn.decomposition import PCA\n",
    "from sklearn import svm\n",
    "from sklearn.svm import SVC\n",
    "\n",
    "\n",
    "def svmPredict(data, label, svmModel):\n",
    "    \n",
    "    predictedLabel = svmModel.predict(data)\n",
    "    error = 0.0\n",
    "    \n",
    "    for i in range(len(label)):\n",
    "        if predictedLabel[i] < label[i] or predictedLabel[i] > label[i]:\n",
    "            error += 1.0\n",
    "    \n",
    "    error /= float(len(label))\n",
    "    \n",
    "    return error\n",
    "\n",
    "#Load in data\n",
    "given_trainX = np.load(\"X_train.npy\")\n",
    "given_trainY = np.load(\"y_train.npy\")\n",
    "given_testX = np.load(\"X_test.npy\")\n",
    "\n",
    "#to get row and column\n",
    "height, width = given_trainX.shape\n",
    "\n",
    "#TODO: test the test_size as well, test_size=0.25 is the given one\n",
    "trainX, testX, trainY, testY = train_test_split(given_trainX, given_trainY, test_size=0.25, random_state=42)\n",
    "\n",
    "#PCA Algorithm\n",
    "#TODO: test components also, components=150 is a given\n",
    "n_components = 150\n",
    "\n",
    "pca = PCA(n_components = n_components, svd_solver='randomized', whiten=True).fit(trainX)\n",
    "\n",
    "#eigenfaces = pca.components_.reshape((n_components, height, width))\n",
    "trainXPCA = pca.transform(trainX)\n",
    "testXPCA = pca.transform(testX)\n",
    "\n",
    "#Fitting the classifier to the training set\n",
    "param_grid = {'C': [1e3, 5e3, 1e4, 5e4, 1e5],\n",
    "              'gamma': [0.0001, 0.0005, 0.001, 0.005, 0.01, 0.1], }\n",
    "\n",
    "classifier = GridSearchCV(SVC(kernel='rbf', class_weight='balanced'), param_grid)\n",
    "classifier = classifier.fit(trainXPCA, trainY)\n",
    "\n",
    "error = svmPredict(testXPCA, testY, classifier)\n",
    "\n",
    "#the lower the error, the better\n",
    "print (error)\n"
   ]
  },
  {
   "cell_type": "code",
   "execution_count": null,
   "metadata": {
    "collapsed": true
   },
   "outputs": [],
   "source": []
  },
  {
   "cell_type": "code",
   "execution_count": null,
   "metadata": {
    "collapsed": true
   },
   "outputs": [],
   "source": []
  }
 ],
 "metadata": {
  "anaconda-cloud": {},
  "kernelspec": {
   "display_name": "Python [Root]",
   "language": "python",
   "name": "Python [Root]"
  },
  "language_info": {
   "codemirror_mode": {
    "name": "ipython",
    "version": 3
   },
   "file_extension": ".py",
   "mimetype": "text/x-python",
   "name": "python",
   "nbconvert_exporter": "python",
   "pygments_lexer": "ipython3",
   "version": "3.5.2"
  }
 },
 "nbformat": 4,
 "nbformat_minor": 0
}
