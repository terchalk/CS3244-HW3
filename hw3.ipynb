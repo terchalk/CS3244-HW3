{
 "cells": [
  {
   "cell_type": "markdown",
   "metadata": {
    "collapsed": true
   },
   "source": [
    "# Homework #3"
   ]
  },
  {
   "cell_type": "markdown",
   "metadata": {},
   "source": [
    "## Support Vector Machine Implementation for HOMEWORK 3"
   ]
  },
  {
   "cell_type": "code",
   "execution_count": 2,
   "metadata": {
    "collapsed": false
   },
   "outputs": [],
   "source": [
    "import numpy as np\n",
    "import math\n",
    "\n",
    "from sklearn.model_selection import train_test_split\n",
    "from sklearn.model_selection import GridSearchCV\n",
    "from sklearn.decomposition import PCA\n",
    "from sklearn.svm import SVC\n",
    "\n",
    "def svmPredict(data, label, svmModel):\n",
    "    \n",
    "    predictedLabel = svmModel.predict(data)\n",
    "    error = 0.0\n",
    "    \n",
    "    for i in range(len(label)):\n",
    "        if predictedLabel[i] < label[i] or predictedLabel[i] > label[i]:\n",
    "            error += 1.0\n",
    "    \n",
    "    error /= float(len(label))\n",
    "    \n",
    "    return error\n",
    "\n",
    "def generateYTest(data, svmModel):\n",
    "    \n",
    "    predictedLabel = svmModel.predict(data)\n",
    "    \n",
    "    return predictedLabel\n",
    "\n",
    "\n",
    "#Load in data\n",
    "given_trainX = np.load(\"X_train.npy\")\n",
    "given_trainY = np.load(\"y_train.npy\")\n",
    "given_testX = np.load(\"X_test.npy\")\n",
    "given_heldoutX = np.load(\"lfw.heldout.npy\")\n",
    "\n",
    "#to get row and column\n",
    "height, width = given_trainX.shape\n",
    "\n",
    "#trainX, testX, trainY, testY = train_test_split(given_trainX, given_trainY, test_size=0.25, random_state=42)\n",
    "\n",
    "#PCA Algorithm\n",
    "n_components = 150\n",
    "\n",
    "pca = PCA(n_components = n_components, svd_solver='randomized', whiten=True).fit(given_trainX)\n",
    "\n",
    "trainXPCA = pca.transform(given_trainX)\n",
    "#testXPCA = pca.transform(given_testX)\n",
    "testXPCA = pca.transform(given_heldoutX)\n",
    "\n",
    "cList = []\n",
    "gammaList = []\n",
    "\n",
    "    \n",
    "#Fitting the classifier to the training set\n",
    "param_grid = {'C': [2e-9, 2e-7, 2e-5, 2e-3, 2e-1, 2e1, 2e3, 2e5, 2e7],\n",
    "              'gamma': [2e-9, 2e-7, 2e-5, 2e-3, 2e-1, 2e1, 2e3, 2e5, 2e7],}\n",
    "\n",
    "classifier = GridSearchCV(SVC(kernel='rbf', class_weight='balanced'), param_grid)\n",
    "classifier = classifier.fit(trainXPCA, given_trainY)\n",
    "\n",
    "predictedTestY = generateYTest(testXPCA, classifier)\n",
    "\n",
    "data = np.empty((len(predictedTestY), 2), dtype='int')\n",
    "for i in range (len(predictedTestY)):\n",
    "        data[i][0] = i\n",
    "        data[i][1] = predictedTestY[i]\n",
    "\n",
    "np.savetxt('output.txt', data, delimiter=',', fmt='%d', header=\"ImageId,PredictedClass\")"
   ]
  },
  {
   "cell_type": "raw",
   "metadata": {
    "collapsed": true
   },
   "source": []
  },
  {
   "cell_type": "code",
   "execution_count": null,
   "metadata": {
    "collapsed": true
   },
   "outputs": [],
   "source": []
  }
 ],
 "metadata": {
  "anaconda-cloud": {},
  "kernelspec": {
   "display_name": "Python [conda root]",
   "language": "python",
   "name": "conda-root-py"
  },
  "language_info": {
   "codemirror_mode": {
    "name": "ipython",
    "version": 3
   },
   "file_extension": ".py",
   "mimetype": "text/x-python",
   "name": "python",
   "nbconvert_exporter": "python",
   "pygments_lexer": "ipython3",
   "version": "3.5.2"
  }
 },
 "nbformat": 4,
 "nbformat_minor": 0
}
